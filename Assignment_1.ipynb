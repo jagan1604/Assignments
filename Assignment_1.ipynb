{
  "nbformat": 4,
  "nbformat_minor": 0,
  "metadata": {
    "colab": {
      "name": "Assignment 1.ipynb",
      "provenance": [],
      "authorship_tag": "ABX9TyPXpMLXmgIPvseKD4SjQfRc",
      "include_colab_link": true
    },
    "kernelspec": {
      "name": "python3",
      "display_name": "Python 3"
    }
  },
  "cells": [
    {
      "cell_type": "markdown",
      "metadata": {
        "id": "view-in-github",
        "colab_type": "text"
      },
      "source": [
        "<a href=\"https://colab.research.google.com/github/jagan1604/Assignments/blob/main/Assignment_1.ipynb\" target=\"_parent\"><img src=\"https://colab.research.google.com/assets/colab-badge.svg\" alt=\"Open In Colab\"/></a>"
      ]
    },
    {
      "cell_type": "code",
      "metadata": {
        "colab": {
          "base_uri": "https://localhost:8080/"
        },
        "id": "WyluM-AK2xqT",
        "outputId": "5c15a7d0-610f-4517-c044-26a934f1a50a"
      },
      "source": [
        "X=int(input(\"Enter the number:\"))\n",
        "Y=(2*X+5)/(X**2+5*X+6)\n",
        "print(\"Result is\",Y)"
      ],
      "execution_count": null,
      "outputs": [
        {
          "output_type": "stream",
          "text": [
            "Enter the number:5\n",
            "Result is 0.26785714285714285\n"
          ],
          "name": "stdout"
        }
      ]
    },
    {
      "cell_type": "code",
      "metadata": {
        "colab": {
          "base_uri": "https://localhost:8080/"
        },
        "id": "oS20Olc752A0",
        "outputId": "e0cf3255-1658-4df1-d3c2-f73a650f73dd"
      },
      "source": [
        " X=int(input(\"Enter the number:\"))\n",
        "Y=(X**2+5*X+6)/(2*X+5)\n",
        "print(\"Result is\",Y)"
      ],
      "execution_count": null,
      "outputs": [
        {
          "output_type": "stream",
          "text": [
            "Enter the number:5\n",
            "Result is 3.7333333333333334\n"
          ],
          "name": "stdout"
        }
      ]
    },
    {
      "cell_type": "code",
      "metadata": {
        "colab": {
          "base_uri": "https://localhost:8080/"
        },
        "id": "CCaZZ0zV6xOo",
        "outputId": "8481d854-1b07-41be-a183-3f6d71a254b4"
      },
      "source": [
        " X=int(input(\"Enter the number:\"))\n",
        "Y=(2*X-3)*(X-9)\n",
        "print(\"Result is\",Y)"
      ],
      "execution_count": null,
      "outputs": [
        {
          "output_type": "stream",
          "text": [
            "Enter the number:5\n",
            "Result is -28\n"
          ],
          "name": "stdout"
        }
      ]
    },
    {
      "cell_type": "code",
      "metadata": {
        "colab": {
          "base_uri": "https://localhost:8080/"
        },
        "id": "NphacUsT7eHb",
        "outputId": "38e6c8dd-2163-4697-d370-9758f56703c9"
      },
      "source": [
        " \n",
        "print(\"Enter correct username and password combo to continue\")\n",
        "count=0\n",
        "password=\"Jagan\"\n",
        "username=\"Jagan\"\n",
        " \n",
        "while password!='Hytu76E' and username!='bank_admin' and count<4:\n",
        "    username=input(\"Enter username: \") \n",
        "    password=input(\"Enter password: \")\n",
        " \n",
        "    if password=='Jagan' and username=='Jagan':\n",
        "     print('Access granted')\n",
        " \n",
        "    else:\n",
        "        print('Access denied. Try again.')\n",
        "        count-=1"
      ],
      "execution_count": null,
      "outputs": [
        {
          "output_type": "stream",
          "text": [
            "Enter correct username and password combo to continue\n",
            "Access granted\n",
            "Access denied. Try again.\n"
          ],
          "name": "stdout"
        }
      ]
    }
  ]
}