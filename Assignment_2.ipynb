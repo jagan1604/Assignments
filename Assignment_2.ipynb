{
  "nbformat": 4,
  "nbformat_minor": 0,
  "metadata": {
    "colab": {
      "name": "Assignment 2.ipynb",
      "provenance": [],
      "authorship_tag": "ABX9TyP+jXasUX4eren9J9ELCfWa",
      "include_colab_link": true
    },
    "kernelspec": {
      "name": "python3",
      "display_name": "Python 3"
    }
  },
  "cells": [
    {
      "cell_type": "markdown",
      "metadata": {
        "id": "view-in-github",
        "colab_type": "text"
      },
      "source": [
        "<a href=\"https://colab.research.google.com/github/jagan1604/Assignments/blob/main/Assignment_2.ipynb\" target=\"_parent\"><img src=\"https://colab.research.google.com/assets/colab-badge.svg\" alt=\"Open In Colab\"/></a>"
      ]
    },
    {
      "cell_type": "code",
      "metadata": {
        "colab": {
          "base_uri": "https://localhost:8080/"
        },
        "id": "R7vo2-BcHGku",
        "outputId": "e618d925-d412-4c82-ce6a-f76e910db98f"
      },
      "source": [
        " \n",
        "test_list=[1,5,3,6,3,5,6,1]\n",
        "print(\"The original list is:\" + str(test_list))\n",
        "test_list=list(set(test_list))\n",
        "print(\"the list after removing duplicates\" + str(test_list))"
      ],
      "execution_count": 1,
      "outputs": [
        {
          "output_type": "stream",
          "text": [
            "The original list is:[1, 5, 3, 6, 3, 5, 6, 1]\n",
            "the list after removing duplicates[1, 3, 5, 6]\n"
          ],
          "name": "stdout"
        }
      ]
    },
    {
      "cell_type": "code",
      "metadata": {
        "colab": {
          "base_uri": "https://localhost:8080/"
        },
        "id": "PyHvYicSHQMD",
        "outputId": "342f785f-ef0b-48c6-c40d-828a5df075f5"
      },
      "source": [
        " \n",
        "list1 = [1, 3, 5, 7, 9]\n",
        "list2=[1, 2, 4, 6, 7, 8]\n",
        "diff_list1_list2 = list(set(list1) - set(list2))\n",
        "diff_list2_list1 = list(set(list2) - set(list1))\n",
        "total_diff = diff_list1_list2 + diff_list2_list1\n",
        "print(total_diff)"
      ],
      "execution_count": 2,
      "outputs": [
        {
          "output_type": "stream",
          "text": [
            "[9, 3, 5, 8, 2, 4, 6]\n"
          ],
          "name": "stdout"
        }
      ]
    },
    {
      "cell_type": "code",
      "metadata": {
        "colab": {
          "base_uri": "https://localhost:8080/"
        },
        "id": "OYAUfR3EHiMp",
        "outputId": "463d0083-cbb3-441f-9394-115f9e50dcac"
      },
      "source": [
        " \n",
        "import collections\n",
        "my_list = [10,10,10,10,20,20,20,20,40,40,50,50,30]\n",
        "print(\"Original List : \",my_list)\n",
        "ctr = collections.Counter(my_list)\n",
        "print(\"Frequency of the elements in the List : \",ctr)"
      ],
      "execution_count": 3,
      "outputs": [
        {
          "output_type": "stream",
          "text": [
            "Original List :  [10, 10, 10, 10, 20, 20, 20, 20, 40, 40, 50, 50, 30]\n",
            "Frequency of the elements in the List :  Counter({10: 4, 20: 4, 40: 2, 50: 2, 30: 1})\n"
          ],
          "name": "stdout"
        }
      ]
    },
    {
      "cell_type": "code",
      "metadata": {
        "colab": {
          "base_uri": "https://localhost:8080/"
        },
        "id": "74Yinj4eHopI",
        "outputId": "e2863d7f-c667-4858-f299-18b4863d7b7b"
      },
      "source": [
        " \n",
        "from collections import Counter\n",
        "color1 = [\"red\", \"orange\", \"green\", \"blue\", \"white\"]\n",
        "color2 = [\"black\", \"yellow\", \"green\", \"blue\"]\n",
        "counter1 = Counter(color1)\n",
        "counter2 = Counter(color2)\n",
        "print(\"Color1-Color2: \",list(counter1 - counter2))\n",
        "print(\"Color2-Color1: \",list(counter2 - counter1))"
      ],
      "execution_count": 4,
      "outputs": [
        {
          "output_type": "stream",
          "text": [
            "Color1-Color2:  ['red', 'orange', 'white']\n",
            "Color2-Color1:  ['black', 'yellow']\n"
          ],
          "name": "stdout"
        }
      ]
    }
  ]
}