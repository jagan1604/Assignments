{
  "nbformat": 4,
  "nbformat_minor": 0,
  "metadata": {
    "colab": {
      "name": "Cryptography project 1.ipynb",
      "provenance": [],
      "authorship_tag": "ABX9TyNlZRnplHOoUy9J9NH0w0mH",
      "include_colab_link": true
    },
    "kernelspec": {
      "name": "python3",
      "display_name": "Python 3"
    }
  },
  "cells": [
    {
      "cell_type": "markdown",
      "metadata": {
        "id": "view-in-github",
        "colab_type": "text"
      },
      "source": [
        "<a href=\"https://colab.research.google.com/github/jagan1604/Assignments/blob/main/Cryptography_project_1.ipynb\" target=\"_parent\"><img src=\"https://colab.research.google.com/assets/colab-badge.svg\" alt=\"Open In Colab\"/></a>"
      ]
    },
    {
      "cell_type": "code",
      "metadata": {
        "colab": {
          "base_uri": "https://localhost:8080/",
          "height": 606
        },
        "id": "BbvKOf45jHVX",
        "outputId": "439ec1c0-632b-4d48-f7c7-6fafdd971012"
      },
      "source": [
        " \n",
        "import onetimepad\n",
        "from tkinter import *\n",
        "#import tkinter\n",
        " \n",
        "root= Tk()\n",
        "root.title(\"Cryptography app\")\n",
        " \n",
        "def encryptMessage():\n",
        "    a=var.get()\n",
        "    #Arun\n",
        "    ct=onetimepad.encrypt(a,\"Assignments\")\n",
        "    print(\"Working\",ct)\n",
        "    \n",
        "    e2.delete(0,END)\n",
        "    e2.insert(END,ct)\n",
        "    \n",
        "def dycryptMessage():\n",
        "    a=var2.get()\n",
        "    #Arun\n",
        "    ct=onetimepad.decrypt(a,\"Assignments\")\n",
        "    print(\"Working\",ct)\n",
        "    \n",
        "    e4.delete(0,END)\n",
        "    e4.insert(END,ct)\n",
        "    \n",
        " \n",
        "l1=Label(root, text=\"Plain Text\")\n",
        "l1.grid(row=0, column=0)\n",
        " \n",
        "l3=Label(root, text=\"Encrypted Text\")\n",
        "l3.grid(row=0, column=2)\n",
        " \n",
        " \n",
        " \n",
        " \n",
        "var=StringVar()\n",
        "e1= Entry(root, textvariable=var)\n",
        "e1.grid(row=0,column=1)\n",
        " \n",
        "var2=StringVar()\n",
        "e3= Entry(root, textvariable=var2)\n",
        "e3.grid(row=0,column=3)\n",
        " \n",
        "l2=Label(root, text=\"Encrypted Text\")\n",
        "l2.grid(row=1, column=0)\n",
        " \n",
        "l4=Label(root, text=\"Plain Text\")\n",
        "l4.grid(row=1, column=2)\n",
        " \n",
        "e2= Entry(root)\n",
        "e2.grid(row=1,column=1)\n",
        " \n",
        "e4= Entry(root)\n",
        "e4.grid(row=1,column=3)\n",
        " \n",
        "b1= Button(root, text=\"Encryption\", bg=\"turquoise\", fg=\"Red\", command=encryptMessage)\n",
        "b1.grid(row=2, column=1)\n",
        " \n",
        "b2= Button(root, text=\"Dycryption\", bg=\"turquoise\", fg=\"Red\", command=dycryptMessage)\n",
        "b2.grid(row=2, column=3)\n",
        " \n",
        " \n",
        " \n",
        "root.mainloop()"
      ],
      "execution_count": 1,
      "outputs": [
        {
          "output_type": "error",
          "ename": "ModuleNotFoundError",
          "evalue": "ignored",
          "traceback": [
            "\u001b[0;31m---------------------------------------------------------------------------\u001b[0m",
            "\u001b[0;31mModuleNotFoundError\u001b[0m                       Traceback (most recent call last)",
            "\u001b[0;32m<ipython-input-1-fb99e8516122>\u001b[0m in \u001b[0;36m<module>\u001b[0;34m()\u001b[0m\n\u001b[1;32m      1\u001b[0m \u001b[0;34m\u001b[0m\u001b[0m\n\u001b[0;32m----> 2\u001b[0;31m \u001b[0;32mimport\u001b[0m \u001b[0monetimepad\u001b[0m\u001b[0;34m\u001b[0m\u001b[0;34m\u001b[0m\u001b[0m\n\u001b[0m\u001b[1;32m      3\u001b[0m \u001b[0;32mfrom\u001b[0m \u001b[0mtkinter\u001b[0m \u001b[0;32mimport\u001b[0m \u001b[0;34m*\u001b[0m\u001b[0;34m\u001b[0m\u001b[0;34m\u001b[0m\u001b[0m\n\u001b[1;32m      4\u001b[0m \u001b[0;31m#import tkinter\u001b[0m\u001b[0;34m\u001b[0m\u001b[0;34m\u001b[0m\u001b[0;34m\u001b[0m\u001b[0m\n\u001b[1;32m      5\u001b[0m \u001b[0;34m\u001b[0m\u001b[0m\n",
            "\u001b[0;31mModuleNotFoundError\u001b[0m: No module named 'onetimepad'",
            "",
            "\u001b[0;31m---------------------------------------------------------------------------\u001b[0;32m\nNOTE: If your import is failing due to a missing package, you can\nmanually install dependencies using either !pip or !apt.\n\nTo view examples of installing some common dependencies, click the\n\"Open Examples\" button below.\n\u001b[0;31m---------------------------------------------------------------------------\u001b[0m\n"
          ]
        }
      ]
    }
  ]
}